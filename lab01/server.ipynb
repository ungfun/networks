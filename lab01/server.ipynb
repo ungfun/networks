{
 "cells": [
  {
   "cell_type": "code",
   "execution_count": 1,
   "metadata": {},
   "outputs": [],
   "source": [
    "import socket\n",
    "import pickle\n",
    "import copy"
   ]
  },
  {
   "cell_type": "code",
   "execution_count": 2,
   "metadata": {},
   "outputs": [],
   "source": [
    "def return_to_null(bitlist):\n",
    "    result = copy.deepcopy(bitlist)\n",
    "    i = 1\n",
    "    leng = len(bitlist)\n",
    "    while i <= leng:\n",
    "        result[i-1] = 0\n",
    "        i *= 2\n",
    "    return result"
   ]
  },
  {
   "cell_type": "code",
   "execution_count": 3,
   "metadata": {},
   "outputs": [],
   "source": [
    "def check_for_mistakes(received, recounted):\n",
    "    leng = len(received)\n",
    "    cnt = 0\n",
    "    i = 1\n",
    "    while i <= leng:\n",
    "        if received[i-1] != recounted[i-1]:\n",
    "            cnt += i\n",
    "        i *= 2\n",
    "    if cnt == 0:\n",
    "        return [0]\n",
    "    elif cnt <= leng:\n",
    "        received[cnt-1] == 0 if received[cnt-1] else 1\n",
    "        return [1, cnt]\n",
    "    else:\n",
    "        return [2]"
   ]
  },
  {
   "cell_type": "code",
   "execution_count": 4,
   "metadata": {},
   "outputs": [],
   "source": [
    "def hemming_decode(binary_list):\n",
    "    sz = len(binary_list)\n",
    "    coded_list = []\n",
    "    mistake_num = []\n",
    "    for _ in range(sz):\n",
    "        coded_list.append(return_to_null(binary_list[_]))\n",
    "        i = 1\n",
    "        leng = len(coded_list[_])\n",
    "        while i <= leng:\n",
    "            cnt = 0\n",
    "            j = i-1\n",
    "            while j <= leng:\n",
    "                for a in range(j, min(j+i, leng)):\n",
    "                    cnt += coded_list[_][a]\n",
    "                j += 2*i\n",
    "            coded_list[_][i-1] = cnt % 2\n",
    "            i *= 2\n",
    "        mistake_num.append(check_for_mistakes(binary_list[_], \n",
    "                                                  coded_list[_]))\n",
    "    return mistake_num"
   ]
  },
  {
   "cell_type": "code",
   "execution_count": null,
   "metadata": {},
   "outputs": [
    {
     "name": "stdout",
     "output_type": "stream",
     "text": [
      "Слушаю порт  6436\n"
     ]
    }
   ],
   "source": [
    "host = '127.0.0.1'\n",
    "port = 6436\n",
    "sock = socket.socket(socket.AF_INET, socket.SOCK_STREAM)\n",
    "sock.bind((host, port))\n",
    "sock.listen(1)\n",
    "print('Слушаю порт ', port)\n",
    "conn, addr = sock.accept()\n",
    "while True:\n",
    "    request = b\"\"\n",
    "    while True:\n",
    "        data = conn.recv(1024)\n",
    "        request += data\n",
    "        if len(data) < 1024:\n",
    "             break\n",
    "    message = pickle.loads(request)\n",
    "    mistakes = hemming_decode(message)\n",
    "    conn.send(pickle.dumps(mistakes))\n",
    "conn.close()"
   ]
  },
  {
   "cell_type": "code",
   "execution_count": null,
   "metadata": {},
   "outputs": [],
   "source": []
  },
  {
   "cell_type": "code",
   "execution_count": null,
   "metadata": {},
   "outputs": [],
   "source": []
  }
 ],
 "metadata": {
  "kernelspec": {
   "display_name": "Python 3",
   "language": "python",
   "name": "python3"
  },
  "language_info": {
   "codemirror_mode": {
    "name": "ipython",
    "version": 3
   },
   "file_extension": ".py",
   "mimetype": "text/x-python",
   "name": "python",
   "nbconvert_exporter": "python",
   "pygments_lexer": "ipython3",
   "version": "3.8.3"
  }
 },
 "nbformat": 4,
 "nbformat_minor": 4
}
